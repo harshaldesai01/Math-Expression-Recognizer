{
 "cells": [
  {
   "cell_type": "code",
   "execution_count": 1,
   "metadata": {},
   "outputs": [],
   "source": [
    "import pickle as p\n",
    "import json, scipy.misc, math\n",
    "import numpy as np\n",
    "from skimage.draw import line\n",
    "from skimage.morphology import thin\n",
    "import matplotlib.pyplot as plt\n",
    "from PIL import Image\n",
    "import xml.etree.ElementTree as ET\n",
    "from io import StringIO\n",
    "from tqdm import tqdm\n",
    "import os"
   ]
  },
  {
   "cell_type": "code",
   "execution_count": 2,
   "metadata": {},
   "outputs": [],
   "source": [
    "labls = ['!', '(', ')', '+', ',', '-', '.', '/', '0', '1', '2', '3', '4', '5', '6', '7', '8', '9', '=', '[', '\\\\alpha', '\\\\beta', '\\\\cos', '\\\\div', '\\\\exists', '\\\\forall', '\\\\gamma', '\\\\geq', '\\\\gt', '\\\\in', '\\\\infty', '\\\\int', '\\\\ldots', '\\\\leq', '\\\\lim', '\\\\log', '\\\\lt', '\\\\neq', '\\\\phi', '\\\\pi', '\\\\pm', '\\\\rightarrow', '\\\\sin', '\\\\sqrt', '\\\\sum', '\\\\tan', '\\\\theta', '\\\\times', '\\\\{', '\\\\}', ']', 'a', 'b', 'c', 'capital_A', 'capital_B', 'capital_C', 'capital_F', 'capital_X', 'capital_Y', 'd', 'e', 'f', 'g', 'i', 'j', 'k', 'm', 'n', 'p', 'r', 't', 'x', 'y', 'z']"
   ]
  },
  {
   "cell_type": "code",
   "execution_count": 3,
   "metadata": {},
   "outputs": [],
   "source": [
    "new_dict = {}\n",
    "i = 0\n",
    "for labl in labls:\n",
    "    new_dict[labl] = str(i)\n",
    "    i = i+1"
   ]
  },
  {
   "cell_type": "code",
   "execution_count": 4,
   "metadata": {},
   "outputs": [],
   "source": [
    "def get_traces_data(inkml_file_abs_path):\n",
    "\n",
    "    traces_data = []\n",
    "\n",
    "    tree = ET.parse(inkml_file_abs_path)\n",
    "    root = tree.getroot()\n",
    "    doc_namespace = \"{http://www.w3.org/2003/InkML}\"\n",
    "\n",
    "    'Stores traces_all with their corresponding id'\n",
    "    traces_all = [{'id': trace_tag.get('id'),\n",
    "                    'coords': [[round(float(axis_coord)) if float(axis_coord).is_integer() else round(float(axis_coord) * 10000) \\\n",
    "                                    for axis_coord in coord[1:].split(' ')] if coord.startswith(' ') \\\n",
    "                                else [round(float(axis_coord)) if float(axis_coord).is_integer() else round(float(axis_coord) * 10000) \\\n",
    "                                    for axis_coord in coord.split(' ')] \\\n",
    "                            for coord in (trace_tag.text).replace('\\n', '').split(',')]} \\\n",
    "                            for trace_tag in root.findall(doc_namespace + 'trace')]\n",
    "\n",
    "    'Sort traces_all list by id to make searching for references faster'\n",
    "    traces_all.sort(key=lambda trace_dict: int(trace_dict['id']))\n",
    "\n",
    "    'Always 1st traceGroup is a redundant wrapper'\n",
    "    traceGroupWrapper = root.find(doc_namespace + 'traceGroup')\n",
    "\n",
    "    if traceGroupWrapper is not None:\n",
    "        for traceGroup in traceGroupWrapper.findall(doc_namespace + 'traceGroup'):\n",
    "\n",
    "            label = traceGroup.find(doc_namespace + 'annotation').text\n",
    "\n",
    "            'traces of the current traceGroup'\n",
    "            traces_curr = []\n",
    "            for traceView in traceGroup.findall(doc_namespace + 'traceView'):\n",
    "\n",
    "                'Id reference to specific trace tag corresponding to currently considered label'\n",
    "                traceDataRef = int(traceView.get('traceDataRef'))\n",
    "\n",
    "                'Each trace is represented by a list of coordinates to connect'\n",
    "                single_trace = traces_all[traceDataRef]['coords']\n",
    "                traces_curr.append(single_trace)\n",
    "\n",
    "\n",
    "            traces_data.append({'label': label, 'trace_group': traces_curr})\n",
    "\n",
    "    else:\n",
    "        'Consider Validation data that has no labels'\n",
    "        [traces_data.append({'trace_group': [trace['coords']]}) for trace in traces_all]\n",
    "\n",
    "    return traces_data"
   ]
  },
  {
   "cell_type": "code",
   "execution_count": 5,
   "metadata": {},
   "outputs": [],
   "source": [
    "def inkml2img(input_path, output_path):\n",
    "#     print(input_path)\n",
    "#     print(pwd)\n",
    "    traces = get_traces_data(input_path)\n",
    "#     print(traces)\n",
    "    path = input_path.split('/')\n",
    "    path = path[len(path)-1].split('.')\n",
    "    path = path[0]+'_'\n",
    "    file_name = 0\n",
    "    for elem in traces:\n",
    "        \n",
    "#         print(elem)\n",
    "#         print('-------------------------')\n",
    "#         print(elem['label'])\n",
    "        \n",
    "        plt.gca().invert_yaxis()\n",
    "        plt.gca().set_aspect('equal', adjustable='box')\n",
    "        plt.axes().get_xaxis().set_visible(False)\n",
    "        plt.axes().get_yaxis().set_visible(False)\n",
    "        plt.axes().spines['top'].set_visible(False)\n",
    "        plt.axes().spines['right'].set_visible(False)\n",
    "        plt.axes().spines['bottom'].set_visible(False)\n",
    "        plt.axes().spines['left'].set_visible(False)\n",
    "        ls = elem['trace_group']\n",
    "        output_path = output_path  \n",
    "        \n",
    "        for subls in ls:\n",
    "#             print(subls)\n",
    "            \n",
    "            data = np.array(subls)\n",
    "#             print(data)\n",
    "            x,y=zip(*data)\n",
    "            plt.plot(x,y,linewidth=2,c='black')\n",
    "            \n",
    "        capital_list = ['A','B','C','F','X','Y']\n",
    "        if elem['label'] in capital_list:\n",
    "            label = 'capital_'+elem['label']\n",
    "        else:\n",
    "            label = elem['label']\n",
    "        \n",
    "        if label in new_dict.keys():\n",
    "            label = new_dict[label]\n",
    "        else:\n",
    "            label = 'other'\n",
    "\n",
    "        ind_output_path = output_path + label       \n",
    "#         print(ind_output_path)\n",
    "        try:\n",
    "            os.mkdir(ind_output_path)\n",
    "        except OSError:\n",
    "#             print (\"Folder %s Already Exists\" % ind_output_path)\n",
    "#             print(OSError.strerror)\n",
    "            pass\n",
    "        else:\n",
    "#             print (\"Successfully created the directory %s \" % ind_output_path)\n",
    "            pass\n",
    "#         print(ind_output_path+'/'+path+str(file_name)+'.png')\n",
    "        if(os.path.isfile(ind_output_path+'/'+path+str(file_name)+'.png')):\n",
    "            # print('1111')\n",
    "            file_name += 1\n",
    "            plt.savefig(ind_output_path+'/'+path+str(file_name)+'.png', bbox_inches='tight', dpi=100)\n",
    "        else:\n",
    "            plt.savefig(ind_output_path+'/'+path+str(file_name)+'.png', bbox_inches='tight', dpi=100)\n",
    "        plt.gcf().clear()"
   ]
  },
  {
   "cell_type": "code",
   "execution_count": 6,
   "metadata": {},
   "outputs": [
    {
     "data": {
      "text/plain": [
       "'/home/harshal/Documents/Projects'"
      ]
     },
     "execution_count": 6,
     "metadata": {},
     "output_type": "execute_result"
    }
   ],
   "source": [
    "pwd"
   ]
  },
  {
   "cell_type": "code",
   "execution_count": 7,
   "metadata": {},
   "outputs": [
    {
     "name": "stdout",
     "output_type": "stream",
     "text": [
      "/home/harshal/Documents/Projects/Deep Learning for Vision\n"
     ]
    }
   ],
   "source": [
    "cd Deep Learning for Vision"
   ]
  },
  {
   "cell_type": "code",
   "execution_count": 8,
   "metadata": {},
   "outputs": [],
   "source": [
    "path = os.getcwd()"
   ]
  },
  {
   "cell_type": "code",
   "execution_count": 9,
   "metadata": {},
   "outputs": [
    {
     "data": {
      "text/plain": [
       "'/home/harshal/Documents/Projects/Deep Learning for Vision'"
      ]
     },
     "execution_count": 9,
     "metadata": {},
     "output_type": "execute_result"
    }
   ],
   "source": [
    "path"
   ]
  },
  {
   "cell_type": "code",
   "execution_count": 12,
   "metadata": {},
   "outputs": [
    {
     "name": "stderr",
     "output_type": "stream",
     "text": [
      "  0%|          | 0/2258 [00:00<?, ?it/s]/home/harshal/anaconda3/lib/python3.7/site-packages/ipykernel_launcher.py:18: MatplotlibDeprecationWarning: Adding an axes using the same arguments as a previous axes currently reuses the earlier instance.  In a future version, a new instance will always be created and returned.  Meanwhile, this warning can be suppressed, and the future behavior ensured, by passing a unique label to each axes instance.\n",
      "/home/harshal/anaconda3/lib/python3.7/site-packages/ipykernel_launcher.py:19: MatplotlibDeprecationWarning: Adding an axes using the same arguments as a previous axes currently reuses the earlier instance.  In a future version, a new instance will always be created and returned.  Meanwhile, this warning can be suppressed, and the future behavior ensured, by passing a unique label to each axes instance.\n",
      "/home/harshal/anaconda3/lib/python3.7/site-packages/ipykernel_launcher.py:20: MatplotlibDeprecationWarning: Adding an axes using the same arguments as a previous axes currently reuses the earlier instance.  In a future version, a new instance will always be created and returned.  Meanwhile, this warning can be suppressed, and the future behavior ensured, by passing a unique label to each axes instance.\n",
      "/home/harshal/anaconda3/lib/python3.7/site-packages/ipykernel_launcher.py:21: MatplotlibDeprecationWarning: Adding an axes using the same arguments as a previous axes currently reuses the earlier instance.  In a future version, a new instance will always be created and returned.  Meanwhile, this warning can be suppressed, and the future behavior ensured, by passing a unique label to each axes instance.\n",
      "/home/harshal/anaconda3/lib/python3.7/site-packages/ipykernel_launcher.py:22: MatplotlibDeprecationWarning: Adding an axes using the same arguments as a previous axes currently reuses the earlier instance.  In a future version, a new instance will always be created and returned.  Meanwhile, this warning can be suppressed, and the future behavior ensured, by passing a unique label to each axes instance.\n",
      "/home/harshal/anaconda3/lib/python3.7/site-packages/ipykernel_launcher.py:23: MatplotlibDeprecationWarning: Adding an axes using the same arguments as a previous axes currently reuses the earlier instance.  In a future version, a new instance will always be created and returned.  Meanwhile, this warning can be suppressed, and the future behavior ensured, by passing a unique label to each axes instance.\n",
      "100%|██████████| 2258/2258 [28:18<00:00,  1.33it/s]\n"
     ]
    },
    {
     "data": {
      "text/plain": [
       "<Figure size 432x288 with 0 Axes>"
      ]
     },
     "metadata": {},
     "output_type": "display_data"
    }
   ],
   "source": [
    "# path = os.getcwd()\n",
    "files = os.listdir(path+'/data/train')\n",
    "for file in tqdm(files):\n",
    "    inkml2img(path+'/data/train/'+file, './Image_data/finaltrain/')"
   ]
  }
 ],
 "metadata": {
  "kernelspec": {
   "display_name": "Python 3",
   "language": "python",
   "name": "python3"
  },
  "language_info": {
   "codemirror_mode": {
    "name": "ipython",
    "version": 3
   },
   "file_extension": ".py",
   "mimetype": "text/x-python",
   "name": "python",
   "nbconvert_exporter": "python",
   "pygments_lexer": "ipython3",
   "version": "3.7.4"
  }
 },
 "nbformat": 4,
 "nbformat_minor": 2
}
