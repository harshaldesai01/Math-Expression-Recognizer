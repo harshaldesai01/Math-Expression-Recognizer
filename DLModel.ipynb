{
 "cells": [
  {
   "cell_type": "code",
   "execution_count": 8,
   "metadata": {},
   "outputs": [],
   "source": [
    "import keras\n",
    "from keras.models import Sequential\n",
    "from keras.layers import Conv2D\n",
    "from keras.layers import MaxPooling2D\n",
    "from keras.layers import Dense\n",
    "from keras.layers import Flatten\n",
    "import numpy\n",
    "# fix random seed for reproducibility\n",
    "seed = 7\n",
    "numpy.random.seed(seed)"
   ]
  },
  {
   "cell_type": "code",
   "execution_count": 9,
   "metadata": {},
   "outputs": [
    {
     "name": "stdout",
     "output_type": "stream",
     "text": [
      "Found 28173 images belonging to 75 classes.\n"
     ]
    }
   ],
   "source": [
    "from tensorflow.keras.preprocessing.image import ImageDataGenerator\n",
    "\n",
    "train_datagen = ImageDataGenerator(rescale = 1./255,\n",
    "                                   shear_range = 0.2,\n",
    "                                   zoom_range = 0.2, validation_split=0.1)\n",
    "\n",
    "#test_datagen = ImageDataGenerator(rescale = 1./255)\n",
    "\n",
    "training_set = train_datagen.flow_from_directory('/home/harshal/Documents/Projects/Deep Learning for Vision/Image_data/finaltrain',\n",
    "                                                 target_size = (64, 64),\n",
    "                                                 batch_size = 32,\n",
    "                                                 class_mode ='categorical')"
   ]
  },
  {
   "cell_type": "code",
   "execution_count": 10,
   "metadata": {},
   "outputs": [],
   "source": [
    "# Initialising the CNN\n",
    "classifier = Sequential()\n",
    "\n",
    "# Step 1 - Convolution\n",
    "classifier.add(Conv2D(32, (3, 3), input_shape = (64, 64, 3), activation = 'relu'))\n",
    "\n",
    "# Step 2 - Pooling\n",
    "classifier.add(MaxPooling2D(pool_size = (2, 2)))\n",
    "\n",
    "# Adding a second convolutional layer\n",
    "classifier.add(Conv2D(32, (3, 3), activation = 'relu'))\n",
    "classifier.add(MaxPooling2D(pool_size = (2, 2)))\n",
    "\n",
    "# Step 3 - Flattening\n",
    "classifier.add(Flatten())\n",
    "\n",
    "# Step 4 - Full connection\n",
    "classifier.add(Dense(units = 128, activation = 'relu'))\n",
    "classifier.add(Dense(units = 75, activation = 'softmax'))\n",
    "\n",
    "# Compiling the CNN\n",
    "classifier.compile(optimizer = 'adam', loss = keras.losses.categorical_crossentropy, metrics = ['accuracy'])"
   ]
  },
  {
   "cell_type": "code",
   "execution_count": 11,
   "metadata": {},
   "outputs": [
    {
     "name": "stdout",
     "output_type": "stream",
     "text": [
      "Epoch 1/25\n",
      "881/881 [==============================] - 499s 566ms/step - loss: 1.3086 - accuracy: 0.6788\n",
      "Epoch 2/25\n",
      "881/881 [==============================] - 103s 116ms/step - loss: 0.5184 - accuracy: 0.8582\n",
      "Epoch 3/25\n",
      "881/881 [==============================] - 105s 119ms/step - loss: 0.3557 - accuracy: 0.8948\n",
      "Epoch 4/25\n",
      "881/881 [==============================] - 100s 113ms/step - loss: 0.2759 - accuracy: 0.9197\n",
      "Epoch 5/25\n",
      "881/881 [==============================] - 102s 116ms/step - loss: 0.2312 - accuracy: 0.9303\n",
      "Epoch 6/25\n",
      "881/881 [==============================] - 105s 120ms/step - loss: 0.1954 - accuracy: 0.9395\n",
      "Epoch 7/25\n",
      "881/881 [==============================] - 111s 126ms/step - loss: 0.1795 - accuracy: 0.9441\n",
      "Epoch 8/25\n",
      "881/881 [==============================] - 106s 120ms/step - loss: 0.1550 - accuracy: 0.9500\n",
      "Epoch 9/25\n",
      "881/881 [==============================] - 104s 119ms/step - loss: 0.1400 - accuracy: 0.9542\n",
      "Epoch 10/25\n",
      "881/881 [==============================] - 106s 120ms/step - loss: 0.1326 - accuracy: 0.9566\n",
      "Epoch 11/25\n",
      "881/881 [==============================] - 108s 123ms/step - loss: 0.1215 - accuracy: 0.9592\n",
      "Epoch 12/25\n",
      "881/881 [==============================] - 117s 133ms/step - loss: 0.1159 - accuracy: 0.9607\n",
      "Epoch 13/25\n",
      "881/881 [==============================] - 113s 128ms/step - loss: 0.1041 - accuracy: 0.9643\n",
      "Epoch 14/25\n",
      "881/881 [==============================] - 111s 126ms/step - loss: 0.1006 - accuracy: 0.9662\n",
      "Epoch 15/25\n",
      "881/881 [==============================] - 105s 119ms/step - loss: 0.0920 - accuracy: 0.9684\n",
      "Epoch 16/25\n",
      "881/881 [==============================] - 105s 119ms/step - loss: 0.0949 - accuracy: 0.9671\n",
      "Epoch 17/25\n",
      "881/881 [==============================] - 106s 120ms/step - loss: 0.0840 - accuracy: 0.9706\n",
      "Epoch 18/25\n",
      "881/881 [==============================] - 108s 123ms/step - loss: 0.0847 - accuracy: 0.9713\n",
      "Epoch 19/25\n",
      "881/881 [==============================] - 107s 122ms/step - loss: 0.0780 - accuracy: 0.9740\n",
      "Epoch 20/25\n",
      "881/881 [==============================] - 105s 120ms/step - loss: 0.0787 - accuracy: 0.9744\n",
      "Epoch 21/25\n",
      "881/881 [==============================] - 104s 119ms/step - loss: 0.0737 - accuracy: 0.9747\n",
      "Epoch 22/25\n",
      "881/881 [==============================] - 98s 111ms/step - loss: 0.0726 - accuracy: 0.9756\n",
      "Epoch 23/25\n",
      "881/881 [==============================] - 99s 113ms/step - loss: 0.0679 - accuracy: 0.9764\n",
      "Epoch 24/25\n",
      "881/881 [==============================] - 104s 118ms/step - loss: 0.0675 - accuracy: 0.9773\n",
      "Epoch 25/25\n",
      "881/881 [==============================] - 104s 118ms/step - loss: 0.0673 - accuracy: 0.9774\n"
     ]
    },
    {
     "data": {
      "text/plain": [
       "<keras.callbacks.callbacks.History at 0x7f7a2b782c90>"
      ]
     },
     "execution_count": 11,
     "metadata": {},
     "output_type": "execute_result"
    }
   ],
   "source": [
    "classifier.fit_generator(training_set, epochs = 25)"
   ]
  },
  {
   "cell_type": "code",
   "execution_count": null,
   "metadata": {},
   "outputs": [],
   "source": []
  }
 ],
 "metadata": {
  "kernelspec": {
   "display_name": "Python 3",
   "language": "python",
   "name": "python3"
  },
  "language_info": {
   "codemirror_mode": {
    "name": "ipython",
    "version": 3
   },
   "file_extension": ".py",
   "mimetype": "text/x-python",
   "name": "python",
   "nbconvert_exporter": "python",
   "pygments_lexer": "ipython3",
   "version": "3.7.4"
  }
 },
 "nbformat": 4,
 "nbformat_minor": 2
}
